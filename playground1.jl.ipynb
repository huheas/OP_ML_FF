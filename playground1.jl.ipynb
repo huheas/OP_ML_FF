{
 "cells": [
  {
   "cell_type": "code",
   "execution_count": null,
   "metadata": {},
   "outputs": [],
   "source": [
    "using Flux\n",
    "using Flux: params, train!, mse\n",
    "\n",
    "model = Chain(\n",
    "    Dense(5, 10, sigmoid),\n",
    "    Dropout(0.2),\n",
    "    Dense(10, 5),\n",
    "    Dense(5, 1)\n",
    ")"
   ]
  }
 ],
 "metadata": {
  "kernelspec": {
   "display_name": "Julia 1.8.2",
   "language": "julia",
   "name": "julia-1.8"
  },
  "language_info": {
   "file_extension": ".jl",
   "mimetype": "application/julia",
   "name": "julia",
   "version": "1.8.2"
  },
  "orig_nbformat": 4
 },
 "nbformat": 4,
 "nbformat_minor": 2
}
